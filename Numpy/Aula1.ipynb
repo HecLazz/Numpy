{
 "cells": [
  {
   "cell_type": "markdown",
   "metadata": {},
   "source": [
    "<h1>Numpy</h1>"
   ]
  },
  {
   "cell_type": "code",
   "execution_count": 1,
   "metadata": {},
   "outputs": [],
   "source": [
    "import numpy as np"
   ]
  },
  {
   "cell_type": "code",
   "execution_count": 2,
   "metadata": {},
   "outputs": [
    {
     "name": "stdout",
     "output_type": "stream",
     "text": [
      "[0 1 2 3]\n",
      "<class 'numpy.ndarray'>\n"
     ]
    }
   ],
   "source": [
    "arr = np.array([0, 1, 2, 3]) #Criação de um Array\n",
    "print(arr)\n",
    "print(type(arr))"
   ]
  },
  {
   "cell_type": "markdown",
   "metadata": {},
   "source": [
    "<h1>Criação de Arrays</h1>\n",
    "<p>Contrução Manual de Arrays</p>"
   ]
  },
  {
   "cell_type": "code",
   "execution_count": 3,
   "metadata": {},
   "outputs": [
    {
     "name": "stdout",
     "output_type": "stream",
     "text": [
      "[[0 1 2]\n",
      " [3 4 5]]\n",
      "2\n",
      "(2, 3)\n"
     ]
    }
   ],
   "source": [
    "b = np.array([[0, 1, 2],[3, 4, 5]])\n",
    "print(b)\n",
    "print(b.ndim) #dimensão do array\n",
    "print(b.shape) #mostra o formato do array"
   ]
  },
  {
   "cell_type": "markdown",
   "metadata": {},
   "source": [
    "<p>Criação utilizando funções</p>"
   ]
  },
  {
   "cell_type": "code",
   "execution_count": 5,
   "metadata": {},
   "outputs": [
    {
     "data": {
      "text/plain": [
       "array([ 0,  1,  2,  3,  4,  5,  6,  7,  8,  9, 10, 11, 12, 13, 14, 15, 16,\n",
       "       17, 18, 19, 20, 21, 22, 23, 24, 25, 26, 27, 28, 29, 30, 31, 32, 33,\n",
       "       34, 35, 36, 37, 38, 39, 40, 41, 42, 43, 44, 45, 46, 47, 48, 49, 50,\n",
       "       51, 52, 53, 54, 55, 56, 57, 58, 59, 60, 61, 62, 63, 64, 65, 66, 67,\n",
       "       68, 69, 70, 71, 72, 73, 74, 75, 76, 77, 78, 79, 80, 81, 82, 83, 84,\n",
       "       85, 86, 87, 88, 89, 90, 91, 92, 93, 94, 95, 96, 97, 98, 99])"
      ]
     },
     "metadata": {},
     "output_type": "display_data"
    },
    {
     "data": {
      "text/plain": [
       "array([1. , 1.9, 2.8, 3.7, 4.6, 5.5, 6.4, 7.3, 8.2, 9.1])"
      ]
     },
     "metadata": {},
     "output_type": "display_data"
    }
   ],
   "source": [
    "c = np.arange(0, 100, 1) #inicio, fim, e de quanto em quanto\n",
    "display(c)\n",
    "\n",
    "d = np.linspace(1, 10, 10, endpoint=False) #inclui o número posto no código, último parametro é a quantidade de números entre o primeiro e último número.\n",
    "#endpoint n ira incluir o último número, então ela irá até o 9.\n",
    "display(d)"
   ]
  },
  {
   "cell_type": "markdown",
   "metadata": {},
   "source": [
    "<p>Arrays Comuns</p>"
   ]
  },
  {
   "cell_type": "code",
   "execution_count": 9,
   "metadata": {},
   "outputs": [
    {
     "name": "stdout",
     "output_type": "stream",
     "text": [
      "[[1. 1. 1. 1. 1.]\n",
      " [1. 1. 1. 1. 1.]\n",
      " [1. 1. 1. 1. 1.]\n",
      " [1. 1. 1. 1. 1.]\n",
      " [1. 1. 1. 1. 1.]]\n",
      "[[0.76783879 0.88749187 0.87369589 0.60769938 0.6220541 ]\n",
      " [0.98300675 0.62318279 0.51722073 0.5673179  0.86120063]\n",
      " [0.24542583 0.79579487 0.35978635 0.10493327 0.62825862]\n",
      " [0.10611562 0.94377756 0.39607723 0.9133458  0.53581874]\n",
      " [0.18804239 0.81971218 0.45084082 0.02501868 0.90542445]]\n",
      "[[1. 0. 0.]\n",
      " [0. 1. 0.]\n",
      " [0. 0. 1.]]\n",
      "[[1 0 0]\n",
      " [0 2 0]\n",
      " [0 0 3]]\n"
     ]
    }
   ],
   "source": [
    "e = np.ones((5,5)) #apenas com número 1\n",
    "print(e)\n",
    "\n",
    "f = np.random.rand(5,5)\n",
    "print(f)\n",
    "\n",
    "d = np.eye(3) # tera valor 1 em sua diagonal\n",
    "print(d)\n",
    "\n",
    "e = np.diag(np.array([1,2,3])) # uma matriz que n é possível montar sua dimensão, todos os valores que vc colocar nela, será na diagonal, então a dimensão dela vai depender da quantidade de número colocado dentro dela.\n",
    "print(e)"
   ]
  },
  {
   "cell_type": "markdown",
   "metadata": {},
   "source": [
    "<h3>Exercícios"
   ]
  },
  {
   "cell_type": "code",
   "execution_count": 18,
   "metadata": {},
   "outputs": [
    {
     "name": "stdout",
     "output_type": "stream",
     "text": [
      "[[1. 0. 0. 0. 0.]\n",
      " [0. 1. 0. 0. 0.]\n",
      " [0. 0. 1. 0. 0.]\n",
      " [0. 0. 0. 1. 0.]\n",
      " [0. 0. 0. 0. 1.]]\n",
      "[[1. 1. 1.]\n",
      " [1. 1. 1.]\n",
      " [1. 1. 1.]]\n",
      "[[ 2 16  2]\n",
      " [15  0 15]]\n",
      "[9 8 7 6 5 4 3 2 1]\n"
     ]
    }
   ],
   "source": [
    "# Crie uma matriz identidade com dimensão 5x5\n",
    "ex1 = np.eye(5,5)\n",
    "print(ex1)\n",
    "\n",
    "#crie uma matriz 3x3 com todos os elementos iguais a 1.\n",
    "ex2 = np.ones((3,3))\n",
    "print(ex2)\n",
    "\n",
    "#crie uma matriz 2x3 com elementos de valores aleatórios entre 0 e 20\n",
    "ex3 = np.random.randint(20, size=(2, 3))\n",
    "print(ex3)\n",
    "\n",
    "#crie o vetor: [9, 8, 7, 6, 5, 4, 3, 2, 1]\n",
    "ex4 = np.arange(9, 0, -1)\n",
    "print(ex4)"
   ]
  },
  {
   "cell_type": "markdown",
   "metadata": {},
   "source": [
    "<h2>Indexação e Corte (Slices) de Arrays"
   ]
  },
  {
   "cell_type": "code",
   "execution_count": 35,
   "metadata": {},
   "outputs": [
    {
     "name": "stdout",
     "output_type": "stream",
     "text": [
      "[0 1 2 3 4 5 6 7 8 9]\n",
      "[0 1 2 3 4]\n",
      "\n",
      "\n",
      "[2 4 6 8]\n",
      "\n",
      "\n",
      "[8 7 6 5 4 3]\n"
     ]
    }
   ],
   "source": [
    "a = np.arange(10)\n",
    "print(a)\n",
    "\n",
    "a[0]\n",
    "a[-1]\n",
    "\n",
    "#Slices\n",
    "print(a[0:5]) # o resultado é parecido com o Limit do SQL\n",
    "print('\\n')\n",
    "\n",
    "print(a[2:9:2]) # nesse caso o terceiro valor indica de quanto em quanto será mostrado na tela, ou seja, está pulando de 2 em 2 dentro do intervalo de 2 a 9-1.\n",
    "\n",
    "print('\\n')\n",
    "print(a[8:2:-1]) # aqui o array está invertido, e para percorrer ele devemos colocar -1, pois, indica o final do array"
   ]
  },
  {
   "cell_type": "code",
   "execution_count": 33,
   "metadata": {},
   "outputs": [
    {
     "name": "stdout",
     "output_type": "stream",
     "text": [
      "[0.00208057 0.78687187 0.74813055 0.42941381 0.45245389]\n",
      "\n",
      "\n",
      "[[0.00208057 0.78687187 0.74813055 0.42941381 0.45245389]\n",
      " [0.82527768 0.33204085 0.60856223 0.80562037 0.60335075]]\n",
      "\n",
      "\n",
      "[[0.00208057 0.78687187 0.74813055 0.42941381 0.45245389]\n",
      " [0.82527768 0.33204085 0.60856223 0.80562037 0.60335075]\n",
      " [0.54143578 0.14041203 0.7750218  0.91157206 0.5810503 ]\n",
      " [0.7716598  0.43323397 0.63506324 0.50830836 0.64917974]\n",
      " [0.23689406 0.08686521 0.05263145 0.13764878 0.42471822]]\n",
      "\n",
      "\n",
      "[0.74813055 0.60856223]\n"
     ]
    }
   ],
   "source": [
    "b = np.random.rand(5, 5)\n",
    "b\n",
    "print(b[0]) #linha inteira\n",
    "b[0, 1] #valor específico\n",
    "print('\\n')\n",
    "\n",
    "#slice\n",
    "print(b[0:2]) # nesse caso sendo um array multidimensional, os valores colocados são referentes as linhas ou seja, nesse caso vou imprimir a linha 0 e a (2 -1), será mostrado apenas as linhas 0 e 1.\n",
    "\n",
    "print('\\n')\n",
    "print(b)\n",
    "print('\\n')\n",
    "print(b[0:2, 2]) # aqui esse último valor indica o indíce de colunas, então o valor mostrado foi da terceira coluna, pois o inicio é 0."
   ]
  }
 ],
 "metadata": {
  "kernelspec": {
   "display_name": "Python 3",
   "language": "python",
   "name": "python3"
  },
  "language_info": {
   "codemirror_mode": {
    "name": "ipython",
    "version": 3
   },
   "file_extension": ".py",
   "mimetype": "text/x-python",
   "name": "python",
   "nbconvert_exporter": "python",
   "pygments_lexer": "ipython3",
   "version": "3.12.4"
  }
 },
 "nbformat": 4,
 "nbformat_minor": 2
}
