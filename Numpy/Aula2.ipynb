{
 "cells": [
  {
   "cell_type": "markdown",
   "metadata": {},
   "source": [
    "# Numpy Módulo 2\n",
    "## Operações com Arrays Numpy\n",
    "### Com Escalares"
   ]
  },
  {
   "cell_type": "code",
   "execution_count": 10,
   "metadata": {},
   "outputs": [],
   "source": [
    "import numpy as np\n",
    "\n",
    "np.random.seed(32) #manter o número aleatório\n",
    "\n",
    "a1 = np.random.randint(1, 20, 8)"
   ]
  },
  {
   "cell_type": "code",
   "execution_count": 14,
   "metadata": {},
   "outputs": [
    {
     "name": "stdout",
     "output_type": "stream",
     "text": [
      "[12  6  8  4  6 11 10  5]\n"
     ]
    },
    {
     "data": {
      "text/plain": [
       "array([144,  36,  64,  16,  36, 121, 100,  25])"
      ]
     },
     "execution_count": 14,
     "metadata": {},
     "output_type": "execute_result"
    }
   ],
   "source": [
    "print(a1)\n",
    "\n",
    "# operações aritméticas com arrays\n",
    "a1 - 2\n",
    "a1 ** 2\n"
   ]
  },
  {
   "cell_type": "markdown",
   "metadata": {},
   "source": [
    "### Entre Arrays"
   ]
  },
  {
   "cell_type": "code",
   "execution_count": 20,
   "metadata": {},
   "outputs": [],
   "source": [
    "a2 = np.random.randint(1, 100, 8)"
   ]
  },
  {
   "cell_type": "code",
   "execution_count": 21,
   "metadata": {},
   "outputs": [
    {
     "data": {
      "text/plain": [
       "array([83, 11, 85, 51, 58, 70, 39, 78])"
      ]
     },
     "execution_count": 21,
     "metadata": {},
     "output_type": "execute_result"
    }
   ],
   "source": [
    "a2"
   ]
  },
  {
   "cell_type": "code",
   "execution_count": 26,
   "metadata": {},
   "outputs": [
    {
     "name": "stdout",
     "output_type": "stream",
     "text": [
      "[95 17 93 55 64 81 49 83]\n",
      "[-71  -5 -77 -47 -52 -59 -29 -73]\n",
      "[996  66 680 204 348 770 390 390]\n"
     ]
    }
   ],
   "source": [
    "print(a1 + a2)\n",
    "print(a1 - a2)\n",
    "print(a1 * a2)"
   ]
  },
  {
   "cell_type": "code",
   "execution_count": 27,
   "metadata": {},
   "outputs": [
    {
     "name": "stdout",
     "output_type": "stream",
     "text": [
      "[[9 5]\n",
      " [1 7]\n",
      " [5 1]]\n",
      "[[4 3 6]\n",
      " [4 3 9]]\n"
     ]
    }
   ],
   "source": [
    "# (3 x 2) x (2 x 3) = (3 x 3)\n",
    "m1 = np.random.randint(1, 10, (3, 2))\n",
    "m2 = np.random.randint(1, 10, (2, 3))\n",
    "\n",
    "print(m1)\n",
    "print(m2)"
   ]
  },
  {
   "cell_type": "code",
   "execution_count": 28,
   "metadata": {},
   "outputs": [
    {
     "data": {
      "text/plain": [
       "array([[56, 42, 99],\n",
       "       [32, 24, 69],\n",
       "       [24, 18, 39]])"
      ]
     },
     "execution_count": 28,
     "metadata": {},
     "output_type": "execute_result"
    }
   ],
   "source": [
    "# multiplicação de matriz, linhas por colunas\n",
    "m1.dot(m2)"
   ]
  },
  {
   "cell_type": "markdown",
   "metadata": {},
   "source": [
    "### Comparações"
   ]
  },
  {
   "cell_type": "code",
   "execution_count": 30,
   "metadata": {},
   "outputs": [
    {
     "data": {
      "text/plain": [
       "False"
      ]
     },
     "execution_count": 30,
     "metadata": {},
     "output_type": "execute_result"
    }
   ],
   "source": [
    "a1 = np.array([1, 2, 2, 1])\n",
    "a2 = np.array([3, 2, 3, 1])\n",
    "\n",
    "a1 == a2 # verifica cada posição e retorna um valor booleano se for igual ou não\n",
    "\n",
    "np.array_equal(a1, a2) # aqui existe uma comparação de matrizes, para ser verdadeiro ambas as matrizes precisam ter valores iguais em todos os elementos"
   ]
  },
  {
   "cell_type": "code",
   "execution_count": 33,
   "metadata": {},
   "outputs": [
    {
     "data": {
      "text/plain": [
       "0.25"
      ]
     },
     "execution_count": 33,
     "metadata": {},
     "output_type": "execute_result"
    }
   ],
   "source": [
    "# funções matemáticas \n",
    "# todos os comandos funcionam da mesma forma - np.<função matemática>(<array>)\n",
    "# Link da documentação: https://numpy.org/doc/1.18/reference/routines.math.html\n",
    "\n",
    "np.sum(m2)\n",
    "np.mean(a1)\n",
    "np.var(a1)"
   ]
  }
 ],
 "metadata": {
  "kernelspec": {
   "display_name": "Python 3",
   "language": "python",
   "name": "python3"
  },
  "language_info": {
   "codemirror_mode": {
    "name": "ipython",
    "version": 3
   },
   "file_extension": ".py",
   "mimetype": "text/x-python",
   "name": "python",
   "nbconvert_exporter": "python",
   "pygments_lexer": "ipython3",
   "version": "3.12.4"
  }
 },
 "nbformat": 4,
 "nbformat_minor": 2
}
